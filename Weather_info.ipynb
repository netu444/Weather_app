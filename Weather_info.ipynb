{
 "cells": [
  {
   "cell_type": "code",
   "execution_count": 1,
   "id": "b0daf37b-2bdf-47d3-9f00-2a082050bd29",
   "metadata": {
    "tags": []
   },
   "outputs": [],
   "source": [
    "import json\n",
    "import requests\n"
   ]
  },
  {
   "cell_type": "code",
   "execution_count": 20,
   "id": "5f27a9a1-9abe-423b-a587-e479b78062e3",
   "metadata": {
    "tags": []
   },
   "outputs": [],
   "source": [
    "def get_weather_info(api_key, city):\n",
    "    payload = {'key': api_key, 'q': city}\n",
    "    try:\n",
    "        r = requests.get('https://api.weatherapi.com/v1/current.json?', params=payload)\n",
    "        data = r.json()\n",
    "        return {\n",
    "            \"Location\": f\"{data['location']['name']}, {data['location']['country']}\",\n",
    "            \"Local time\": data['location']['localtime'],\n",
    "            \"Temperature\": f\"{data['current']['temp_c']} C\",\n",
    "            \"Feels like\": f\"{data['current']['feelslike_c']} C\",\n",
    "            \"Wind speed\": f\"{data['current']['wind_kph']} km/h\",\n",
    "            \"Humidity\": f\"{data['current']['humidity']} %\",\n",
    "            \"Visibility\": f\"{data['current']['vis_km']} km\",\n",
    "            \"Last Updated\": f\"{data['current']['last_updated']}\\n\"\n",
    "        }\n",
    "    except KeyError:\n",
    "        return {\"error\": \"City not found.\"}\n",
    "    except Exception as e:\n",
    "        return {\"error\": f\"An error occurred: {e}\"}"
   ]
  },
  {
   "cell_type": "code",
   "execution_count": 25,
   "id": "d6c1d302-3b49-4d4f-b9ed-ad844df241b2",
   "metadata": {
    "tags": []
   },
   "outputs": [],
   "source": [
    "api_key = ''"
   ]
  },
  {
   "cell_type": "code",
   "execution_count": 24,
   "id": "f1a0f837-c8a3-4d76-83d6-1373cf80012e",
   "metadata": {
    "tags": []
   },
   "outputs": [
    {
     "name": "stdin",
     "output_type": "stream",
     "text": [
      "Enter the city name (or type \"quit\" to exit):\n",
      " New york\n"
     ]
    },
    {
     "name": "stdout",
     "output_type": "stream",
     "text": [
      "Location: New York, United States of America\n",
      "Local time: 2024-02-19 18:57\n",
      "Temperature: 2.8 C\n",
      "Feels like: -1.0 C\n",
      "Wind speed: 3.6 km/h\n",
      "Humidity: 26 %\n",
      "Visibility: 16.0 km\n",
      "Last Updated: 2024-02-19 18:45\n",
      "\n"
     ]
    },
    {
     "name": "stdin",
     "output_type": "stream",
     "text": [
      "Enter the city name (or type \"quit\" to exit):\n",
      " London\n"
     ]
    },
    {
     "name": "stdout",
     "output_type": "stream",
     "text": [
      "Location: London, United Kingdom\n",
      "Local time: 2024-02-19 23:57\n",
      "Temperature: 8.0 C\n",
      "Feels like: 6.6 C\n",
      "Wind speed: 6.8 km/h\n",
      "Humidity: 76 %\n",
      "Visibility: 10.0 km\n",
      "Last Updated: 2024-02-19 23:45\n",
      "\n"
     ]
    },
    {
     "name": "stdin",
     "output_type": "stream",
     "text": [
      "Enter the city name (or type \"quit\" to exit):\n",
      " Riga\n"
     ]
    },
    {
     "name": "stdout",
     "output_type": "stream",
     "text": [
      "Location: Riga, Latvia\n",
      "Local time: 2024-02-20 1:57\n",
      "Temperature: 1.0 C\n",
      "Feels like: -3.6 C\n",
      "Wind speed: 13.0 km/h\n",
      "Humidity: 55 %\n",
      "Visibility: 10.0 km\n",
      "Last Updated: 2024-02-20 01:45\n",
      "\n"
     ]
    },
    {
     "name": "stdin",
     "output_type": "stream",
     "text": [
      "Enter the city name (or type \"quit\" to exit):\n",
      "  \n"
     ]
    },
    {
     "name": "stdout",
     "output_type": "stream",
     "text": [
      "error: City not found.\n"
     ]
    },
    {
     "name": "stdin",
     "output_type": "stream",
     "text": [
      "Enter the city name (or type \"quit\" to exit):\n",
      " Moscow\n"
     ]
    },
    {
     "name": "stdout",
     "output_type": "stream",
     "text": [
      "Location: Moscow, Russia\n",
      "Local time: 2024-02-20 2:57\n",
      "Temperature: -16.0 C\n",
      "Feels like: -20.0 C\n",
      "Wind speed: 4.0 km/h\n",
      "Humidity: 84 %\n",
      "Visibility: 10.0 km\n",
      "Last Updated: 2024-02-20 02:45\n",
      "\n"
     ]
    },
    {
     "name": "stdin",
     "output_type": "stream",
     "text": [
      "Enter the city name (or type \"quit\" to exit):\n",
      " quit\n"
     ]
    },
    {
     "name": "stdout",
     "output_type": "stream",
     "text": [
      "Exiting...\n"
     ]
    }
   ],
   "source": [
    "while True:\n",
    "    city = input('Enter the city name (or type \"quit\" to exit):\\n')\n",
    "    if city.lower() == \"quit\":\n",
    "        print(\"Exiting...\")\n",
    "        break\n",
    "    \n",
    "    weather_info = get_weather_info(api_key, city)\n",
    "    for key, value in weather_info.items():\n",
    "        print(key + \":\", value)"
   ]
  },
  {
   "cell_type": "code",
   "execution_count": null,
   "id": "eeb787e9-6167-4cfc-a1ec-6348a2479222",
   "metadata": {},
   "outputs": [],
   "source": []
  }
 ],
 "metadata": {
  "kernelspec": {
   "display_name": "Python 3 (ipykernel)",
   "language": "python",
   "name": "python3"
  },
  "language_info": {
   "codemirror_mode": {
    "name": "ipython",
    "version": 3
   },
   "file_extension": ".py",
   "mimetype": "text/x-python",
   "name": "python",
   "nbconvert_exporter": "python",
   "pygments_lexer": "ipython3",
   "version": "3.11.5"
  }
 },
 "nbformat": 4,
 "nbformat_minor": 5
}
